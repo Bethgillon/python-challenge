{
 "cells": [
  {
   "cell_type": "code",
   "execution_count": 1,
   "metadata": {},
   "outputs": [],
   "source": [
    "import os\n",
    "import pandas as pd\n",
    "import csv"
   ]
  },
  {
   "cell_type": "code",
   "execution_count": 2,
   "metadata": {},
   "outputs": [],
   "source": [
    "#Define the path to the CSV file located in the local Resources folder\n",
    "\n",
    "bankfile = os.path.join(os.path.join('..', 'Resources', 'budget_data.csv'))\n"
   ]
  },
  {
   "cell_type": "code",
   "execution_count": 3,
   "metadata": {},
   "outputs": [
    {
     "data": {
      "text/html": [
       "<div>\n",
       "<style scoped>\n",
       "    .dataframe tbody tr th:only-of-type {\n",
       "        vertical-align: middle;\n",
       "    }\n",
       "\n",
       "    .dataframe tbody tr th {\n",
       "        vertical-align: top;\n",
       "    }\n",
       "\n",
       "    .dataframe thead th {\n",
       "        text-align: right;\n",
       "    }\n",
       "</style>\n",
       "<table border=\"1\" class=\"dataframe\">\n",
       "  <thead>\n",
       "    <tr style=\"text-align: right;\">\n",
       "      <th></th>\n",
       "      <th>Date</th>\n",
       "      <th>Profit/Losses</th>\n",
       "    </tr>\n",
       "  </thead>\n",
       "  <tbody>\n",
       "    <tr>\n",
       "      <td>0</td>\n",
       "      <td>Jan-2010</td>\n",
       "      <td>867884</td>\n",
       "    </tr>\n",
       "    <tr>\n",
       "      <td>1</td>\n",
       "      <td>Feb-2010</td>\n",
       "      <td>984655</td>\n",
       "    </tr>\n",
       "    <tr>\n",
       "      <td>2</td>\n",
       "      <td>Mar-2010</td>\n",
       "      <td>322013</td>\n",
       "    </tr>\n",
       "    <tr>\n",
       "      <td>3</td>\n",
       "      <td>Apr-2010</td>\n",
       "      <td>-69417</td>\n",
       "    </tr>\n",
       "    <tr>\n",
       "      <td>4</td>\n",
       "      <td>May-2010</td>\n",
       "      <td>310503</td>\n",
       "    </tr>\n",
       "  </tbody>\n",
       "</table>\n",
       "</div>"
      ],
      "text/plain": [
       "       Date  Profit/Losses\n",
       "0  Jan-2010         867884\n",
       "1  Feb-2010         984655\n",
       "2  Mar-2010         322013\n",
       "3  Apr-2010         -69417\n",
       "4  May-2010         310503"
      ]
     },
     "execution_count": 3,
     "metadata": {},
     "output_type": "execute_result"
    }
   ],
   "source": [
    "#Have file read as a pd file\n",
    "bankfile_pd = pd.read_csv(bankfile)\n",
    "bankfile_pd.head()\n"
   ]
  },
  {
   "cell_type": "code",
   "execution_count": 4,
   "metadata": {},
   "outputs": [
    {
     "data": {
      "text/html": [
       "<div>\n",
       "<style scoped>\n",
       "    .dataframe tbody tr th:only-of-type {\n",
       "        vertical-align: middle;\n",
       "    }\n",
       "\n",
       "    .dataframe tbody tr th {\n",
       "        vertical-align: top;\n",
       "    }\n",
       "\n",
       "    .dataframe thead th {\n",
       "        text-align: right;\n",
       "    }\n",
       "</style>\n",
       "<table border=\"1\" class=\"dataframe\">\n",
       "  <thead>\n",
       "    <tr style=\"text-align: right;\">\n",
       "      <th></th>\n",
       "      <th>Profit/Losses</th>\n",
       "    </tr>\n",
       "  </thead>\n",
       "  <tbody>\n",
       "    <tr>\n",
       "      <td>count</td>\n",
       "      <td>8.600000e+01</td>\n",
       "    </tr>\n",
       "    <tr>\n",
       "      <td>mean</td>\n",
       "      <td>4.463090e+05</td>\n",
       "    </tr>\n",
       "    <tr>\n",
       "      <td>std</td>\n",
       "      <td>5.363579e+05</td>\n",
       "    </tr>\n",
       "    <tr>\n",
       "      <td>min</td>\n",
       "      <td>-1.196225e+06</td>\n",
       "    </tr>\n",
       "    <tr>\n",
       "      <td>25%</td>\n",
       "      <td>1.821620e+05</td>\n",
       "    </tr>\n",
       "    <tr>\n",
       "      <td>50%</td>\n",
       "      <td>5.703280e+05</td>\n",
       "    </tr>\n",
       "    <tr>\n",
       "      <td>75%</td>\n",
       "      <td>7.952262e+05</td>\n",
       "    </tr>\n",
       "    <tr>\n",
       "      <td>max</td>\n",
       "      <td>1.170593e+06</td>\n",
       "    </tr>\n",
       "  </tbody>\n",
       "</table>\n",
       "</div>"
      ],
      "text/plain": [
       "       Profit/Losses\n",
       "count   8.600000e+01\n",
       "mean    4.463090e+05\n",
       "std     5.363579e+05\n",
       "min    -1.196225e+06\n",
       "25%     1.821620e+05\n",
       "50%     5.703280e+05\n",
       "75%     7.952262e+05\n",
       "max     1.170593e+06"
      ]
     },
     "execution_count": 4,
     "metadata": {},
     "output_type": "execute_result"
    }
   ],
   "source": [
    "# Display a statistical overview of the DataFrame\n",
    "bankfile_pd.describe()"
   ]
  },
  {
   "cell_type": "code",
   "execution_count": 5,
   "metadata": {},
   "outputs": [
    {
     "data": {
      "text/plain": [
       "Feb-2014    1\n",
       "Mar-2016    1\n",
       "Feb-2016    1\n",
       "Mar-2013    1\n",
       "Nov-2010    1\n",
       "           ..\n",
       "Apr-2011    1\n",
       "Dec-2016    1\n",
       "Dec-2014    1\n",
       "Feb-2015    1\n",
       "Jul-2013    1\n",
       "Name: Date, Length: 86, dtype: int64"
      ]
     },
     "execution_count": 5,
     "metadata": {},
     "output_type": "execute_result"
    }
   ],
   "source": [
    "#Countnumber of months in total period\n",
    "count = bankfile_pd[\"Date\"].value_counts()\n",
    "count\n"
   ]
  },
  {
   "cell_type": "code",
   "execution_count": 6,
   "metadata": {
    "scrolled": true
   },
   "outputs": [],
   "source": [
    "# Store unique value for Total Months in a variable \n",
    "Total_Months = bankfile_pd[\"Date\"].nunique() "
   ]
  },
  {
   "cell_type": "code",
   "execution_count": 7,
   "metadata": {},
   "outputs": [],
   "source": [
    "# Store the net total amount of \"Profit/Losses\" over the entire period\n",
    "Net_PL = bankfile_pd[\"Profit/Losses\"].sum()"
   ]
  },
  {
   "cell_type": "code",
   "execution_count": 28,
   "metadata": {},
   "outputs": [
    {
     "name": "stdout",
     "output_type": "stream",
     "text": [
      "<class 'pandas.core.frame.DataFrame'>\n",
      "RangeIndex: 86 entries, 0 to 85\n",
      "Data columns (total 2 columns):\n",
      "Date             86 non-null object\n",
      "Profit/Losses    83 non-null float64\n",
      "dtypes: float64(1), object(1)\n",
      "memory usage: 1.5+ KB\n",
      "        Date  Profit/Losses\n",
      "0   Jan-2010            NaN\n",
      "1   Feb-2010            NaN\n",
      "2   Mar-2010            NaN\n",
      "3   Apr-2010            NaN\n",
      "4   May-2010      -550487.0\n",
      "..       ...            ...\n",
      "81  Oct-2016      5816428.0\n",
      "82  Nov-2016      1552481.0\n",
      "83  Dec-2016     -5010459.0\n",
      "84  Jan-2017      5027472.0\n",
      "85  Feb-2017     -2596864.0\n",
      "\n",
      "[86 rows x 2 columns]\n"
     ]
    }
   ],
   "source": [
    "#create list with highest increase and largest decrease\n",
    "#largest increase\n",
    "bankfile_pd['Profit/Losses']=pd.to_numeric(bankfile_pd['Profit/Losses'])\n",
    "bankfile_pd.info()\n",
    "bankfile_pd['Profit/Losses'] = bankfile_pd['Profit/Losses'].diff()\n",
    "print(bankfile_pd)"
   ]
  },
  {
   "cell_type": "code",
   "execution_count": 32,
   "metadata": {},
   "outputs": [
    {
     "name": "stdout",
     "output_type": "stream",
     "text": [
      "<class 'pandas.core.frame.DataFrame'>\n",
      "RangeIndex: 86 entries, 0 to 85\n",
      "Data columns (total 2 columns):\n",
      "Date             86 non-null object\n",
      "Profit/Losses    86 non-null float64\n",
      "dtypes: float64(1), object(1)\n",
      "memory usage: 1.5+ KB\n",
      "-121016276.0\n"
     ]
    }
   ],
   "source": [
    "bankfile_pd['Profit/Losses']=pd.to_numeric(bankfile_pd['Profit/Losses'])\n",
    "bankfile_pd.info()\n",
    "Avg_Mon_Change=bankfile_pd['Profit/Losses'].sum()\n",
    "print (Avg_Mon_Change)"
   ]
  },
  {
   "cell_type": "code",
   "execution_count": 36,
   "metadata": {},
   "outputs": [
    {
     "name": "stdout",
     "output_type": "stream",
     "text": [
      "Date                Sep-2016\n",
      "Profit/Losses   -1.40717e+06\n",
      "dtype: object\n"
     ]
    }
   ],
   "source": [
    "# store the date and amount of max profit\n",
    "Max_profit =bankfile_pd.max()\n",
    "print(Max_profit)\n"
   ]
  },
  {
   "cell_type": "code",
   "execution_count": 37,
   "metadata": {},
   "outputs": [
    {
     "name": "stdout",
     "output_type": "stream",
     "text": [
      "Date                Apr-2010\n",
      "Profit/Losses   -1.40717e+06\n",
      "dtype: object\n"
     ]
    }
   ],
   "source": [
    "#store the date and amount of date of max loss\n",
    "Max_loss = bankfile_pd.min()\n",
    "print(Max_loss)\n"
   ]
  },
  {
   "cell_type": "code",
   "execution_count": 38,
   "metadata": {
    "scrolled": true
   },
   "outputs": [
    {
     "name": "stdout",
     "output_type": "stream",
     "text": [
      "Financial Analysis\n",
      "------------------------------------\n",
      "Total Months: 86\n",
      "Total: $38382578\n",
      "Average Change: -121016276.0\n",
      "Greatest Increase in Profits:Date                Sep-2016\n",
      "Profit/Losses   -1.40717e+06\n",
      "dtype: object\n",
      "Greatest Loss of Profit:Date                Apr-2010\n",
      "Profit/Losses   -1.40717e+06\n",
      "dtype: object\n"
     ]
    }
   ],
   "source": [
    "#Print\n",
    "print(\"Financial Analysis\")\n",
    "print(\"------------------------------------\")\n",
    "print(f\"Total Months: {str(Total_Months)}\")\n",
    "print(f\"Total: ${str(Net_PL)}\")\n",
    "print(f\"Average Change: {str(Avg_Mon_Change)}\")\n",
    "print(f\"Greatest Increase in Profits:{str(Max_profit)}\")\n",
    "print(f\"Greatest Loss of Profit:{str(Max_loss)}\")\n",
    "\n",
    "   "
   ]
  }
 ],
 "metadata": {
  "kernelspec": {
   "display_name": "Python 3",
   "language": "python",
   "name": "python3"
  },
  "language_info": {
   "codemirror_mode": {
    "name": "ipython",
    "version": 3
   },
   "file_extension": ".py",
   "mimetype": "text/x-python",
   "name": "python",
   "nbconvert_exporter": "python",
   "pygments_lexer": "ipython3",
   "version": "3.7.4"
  }
 },
 "nbformat": 4,
 "nbformat_minor": 2
}
